{
  "nbformat": 4,
  "nbformat_minor": 0,
  "metadata": {
    "colab": {
      "provenance": [],
      "authorship_tag": "ABX9TyM9CkDF4K3FPCYZ5Yy7qcAW",
      "include_colab_link": true
    },
    "kernelspec": {
      "name": "python3",
      "display_name": "Python 3"
    },
    "language_info": {
      "name": "python"
    }
  },
  "cells": [
    {
      "cell_type": "markdown",
      "metadata": {
        "id": "view-in-github",
        "colab_type": "text"
      },
      "source": [
        "<a href=\"https://colab.research.google.com/github/Batman511/AI-Samsung-Neural-Networks/blob/main/%D0%9A%D1%83%D1%80%D1%81_AI_Samsung_%D0%9D%D0%B5%D0%B9%D1%80%D0%BE%D1%81%D0%B5%D1%82%D0%B8.ipynb\" target=\"_parent\"><img src=\"https://colab.research.google.com/assets/colab-badge.svg\" alt=\"Open In Colab\"/></a>"
      ]
    },
    {
      "cell_type": "markdown",
      "source": [
        "# Восстановление функции с помощью нейросети"
      ],
      "metadata": {
        "id": "l-fhOmcA5XQc"
      }
    },
    {
      "cell_type": "code",
      "execution_count": 1,
      "metadata": {
        "id": "j3r8JUY3yrWu"
      },
      "outputs": [],
      "source": [
        "import torch\n",
        "import matplotlib.pyplot as plt\n",
        "import numpy as np"
      ]
    },
    {
      "cell_type": "code",
      "source": [
        "x_train = torch.rand(100)\n",
        "x_train *=20\n",
        "x_train -=10\n",
        "\n",
        "y_train = torch.sin(x_train)\n",
        "# plt.plot(x_train.numpy(), y_train.numpy(),'o')\n",
        "\n",
        "noise = torch.rand(y_train.shape)/8.\n",
        "y_train += noise\n",
        "\n",
        "plt.plot(x_train.numpy(), y_train.numpy(),'o')"
      ],
      "metadata": {
        "colab": {
          "base_uri": "https://localhost:8080/",
          "height": 282
        },
        "id": "FIzHR2gC5W8O",
        "outputId": "b8670638-7f69-4774-b07f-9c3852590852"
      },
      "execution_count": 21,
      "outputs": [
        {
          "output_type": "execute_result",
          "data": {
            "text/plain": [
              "[<matplotlib.lines.Line2D at 0x7fbbc3647af0>]"
            ]
          },
          "metadata": {},
          "execution_count": 21
        },
        {
          "output_type": "display_data",
          "data": {
            "text/plain": [
              "<Figure size 432x288 with 1 Axes>"
            ],
            "image/png": "[encoded data removed]"
          },
          "metadata": {
            "needs_background": "light"
          }
        }
      ]
    },
    {
      "cell_type": "markdown",
      "source": [
        "Превращаем вектор признаков в столбец"
      ],
      "metadata": {
        "id": "x4-ArFH2JaZ7"
      }
    },
    {
      "cell_type": "code",
      "source": [
        "x_train.unsqueeze_(1)\n",
        "y_train.unsqueeze_(1)\n",
        "\n",
        "# Сделаем валидационные данные,   СЛЕДИТЬ ЧТОБЫ БЫЛ ТОТ ЖЕ ДИАПАЗОН, ЧТО В ТРЕНИРОВОЧНЫЕ ДАННЫЕ\n",
        "x_valid = torch.linspace(-10, 10, 100)\n",
        "y_valid = torch.sin(x_valid.data)\n",
        "\n",
        "x_valid.unsqueeze_(1)\n",
        "y_valid.unsqueeze_(1);"
      ],
      "metadata": {
        "id": "DOqnVi1pJZGi"
      },
      "execution_count": 16,
      "outputs": []
    },
    {
      "cell_type": "markdown",
      "source": [
        "Создаем Класс нейросети"
      ],
      "metadata": {
        "id": "rHGkcpMFKo2l"
      }
    },
    {
      "cell_type": "code",
      "source": [
        "class SinNet(torch.nn.Module):  # наследуем от класса nn.Module\n",
        "    def __init__(self, n_hidden_neurons):   # число скрытых нейронов в каждом слое\n",
        "        super(SinNet, self).__init__()  # инициализируем родительский объект\n",
        "        self.fc1 = torch.nn.Linear(1,n_hidden_neurons)  # первый слой с числом входных и выходных нейронов\n",
        "        self.act1 = torch.nn.Tanh()\n",
        "        self.fc2 = torch.nn.Linear(n_hidden_neurons, 1) # выходной слой с одним выходом тк задача регрессии\n",
        "\n",
        "    # последовательное применение слоев, т.е. ИНИЦИАЛИЗАЦИЯ\n",
        "    def forward(self,x):\n",
        "        x = self.fc1(x)\n",
        "        x = self.act1(x)\n",
        "        x = self.fc2(x)\n",
        "        return x\n",
        "\n",
        "sin_net = SinNet(12)\n",
        "\n",
        "def predict(net,x,y):\n",
        "    y_pred = net.forward(x)  # предсказываем\n",
        "    # рисуем\n",
        "    plt.plot(x.numpy(), y.numpy(), 'o', label='Groud truth')\n",
        "    plt.plot(x.numpy(), y_pred.data.numpy(), 'o', c='r', label='Prediction');\n",
        "    plt.legend(loc='upper left')\n",
        "    plt.xlabel('$x$')\n",
        "    plt.ylabel('$y$')\n",
        "\n",
        "predict(sin_net,x_valid,y_valid)"
      ],
      "metadata": {
        "colab": {
          "base_uri": "https://localhost:8080/",
          "height": 279
        },
        "id": "_jHWoYHBKq37",
        "outputId": "56585697-68ed-416f-fb4d-33d39c5c03fe"
      },
      "execution_count": 18,
      "outputs": [
        {
          "output_type": "display_data",
          "data": {
            "text/plain": [
              "<Figure size 432x288 with 1 Axes>"
            ],
            "image/png": "[encoded data removed]"
          },
          "metadata": {
            "needs_background": "light"
          }
        }
      ]
    },
    {
      "cell_type": "markdown",
      "source": [
        "Обучаем нейросеть"
      ],
      "metadata": {
        "id": "8udF_TeCTM8A"
      }
    },
    {
      "cell_type": "code",
      "source": [
        "optimazer = torch.optim.Adam(sin_net.parameters(), lr=0.01)  # в parameters() лежат веса нейронов (настроиваемые) поэтому и наследовали\n",
        "# оптимайзер оборачивает все параметры нейросети\n",
        "\n",
        "def loss(pred,target):\n",
        "    sq = (pred-target)**2\n",
        "    return sq.mean()\n",
        "\n",
        "for epoch_index in range(2000):\n",
        "    optimazer.zero_grad()  # зануляем градиенты\n",
        "    y_pred = sin_net.forward(x_train)\n",
        "    loss_val = loss(y_pred,y_train)\n",
        "    loss_val.backward()  # для оптимайзера\n",
        "    optimazer.step()\n",
        "\n",
        "predict(sin_net, x_valid, y_valid)"
      ],
      "metadata": {
        "colab": {
          "base_uri": "https://localhost:8080/",
          "height": 279
        },
        "id": "kkN27HWmTNIG",
        "outputId": "0b7068cd-cc73-4d14-a786-c997ca62fb3c"
      },
      "execution_count": 19,
      "outputs": [
        {
          "output_type": "display_data",
          "data": {
            "text/plain": [
              "<Figure size 432x288 with 1 Axes>"
            ],
            "image/png": "[encoded data removed]"
          },
          "metadata": {
            "needs_background": "light"
          }
        }
      ]
    },
    {
      "cell_type": "markdown",
      "source": [
        "## Вторая функция"
      ],
      "metadata": {
        "id": "3qKGRUwolkF5"
      }
    },
    {
      "cell_type": "code",
      "source": [
        "import torch\n",
        "\n",
        "def target_function(x):\n",
        "    return 2**x * torch.sin(2**-x)\n",
        "\n",
        "class RegressionNet(torch.nn.Module):\n",
        "    def __init__(self, n_hidden_neurons):   # число скрытых нейронов в каждом слое\n",
        "        super(RegressionNet, self).__init__()  # инициализируем родительский объект\n",
        "        self.fc1 = torch.nn.Linear(1,n_hidden_neurons)  # первый слой с числом входных и выходных нейронов\n",
        "        self.fc2 = torch.nn.Linear(n_hidden_neurons,n_hidden_neurons)\n",
        "        self.act1 = torch.nn.Tanh()\n",
        "        self.act2 = torch.nn.Tanh()\n",
        "        self.fc3 = torch.nn.Linear(n_hidden_neurons, 1) # выходной слой с одним выходом тк задача регрессии\n",
        "\n",
        "    def forward(self,x):\n",
        "        x = self.fc1(x)\n",
        "        x = self.act1(x)\n",
        "        x = self.fc2(x)\n",
        "        x = self.act2(x)\n",
        "        x = self.fc3(x)\n",
        "        return x\n",
        "\n",
        "net = RegressionNet(30)\n",
        "\n",
        "# ------Dataset preparation start--------:\n",
        "x_train =  torch.linspace(-10, 5, 100)\n",
        "y_train = target_function(x_train)\n",
        "noise = torch.randn(y_train.shape) / 20.\n",
        "y_train = y_train + noise\n",
        "x_train.unsqueeze_(1)\n",
        "y_train.unsqueeze_(1)\n",
        "\n",
        "x_validation = torch.linspace(-10, 5, 100)\n",
        "y_validation = target_function(x_validation)\n",
        "x_validation.unsqueeze_(1)\n",
        "y_validation.unsqueeze_(1)\n",
        "# ------Dataset preparation end--------:\n",
        "\n",
        "\n",
        "optimizer = torch.optim.AdamW(net.parameters(), lr=0.001)\n",
        "\n",
        "def loss(pred, target):\n",
        "    sq = abs(pred-target)\n",
        "    return sq.mean()\n",
        "\n",
        "for epoch_index in range(2000):\n",
        "    optimizer.zero_grad()\n",
        "\n",
        "    y_pred = net.forward(x_train)\n",
        "    loss_value = loss(y_pred, y_train)\n",
        "    loss_value.backward()\n",
        "    optimizer.step()\n",
        "\n",
        "# Проверка:\n",
        "def metric(pred, target):\n",
        "   return (pred - target).abs().mean()\n",
        "\n",
        "print(metric(net.forward(x_validation), y_validation).item())"
      ],
      "metadata": {
        "colab": {
          "base_uri": "https://localhost:8080/"
        },
        "id": "4m8JvIX-lkZc",
        "outputId": "2c17d8f2-3709-4377-b97d-1a78a5386838"
      },
      "execution_count": 3,
      "outputs": [
        {
          "output_type": "stream",
          "name": "stdout",
          "text": [
            "0.02594063989818096\n"
          ]
        }
      ]
    }
  ]
}