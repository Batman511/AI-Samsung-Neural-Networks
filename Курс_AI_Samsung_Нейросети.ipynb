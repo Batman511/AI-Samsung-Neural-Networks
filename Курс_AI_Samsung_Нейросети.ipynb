{
  "nbformat": 4,
  "nbformat_minor": 0,
  "metadata": {
    "colab": {
      "provenance": [],
      "authorship_tag": "ABX9TyMnBsWlOtreS954uXG6LPVe",
      "include_colab_link": true
    },
    "kernelspec": {
      "name": "python3",
      "display_name": "Python 3"
    },
    "language_info": {
      "name": "python"
    },
    "accelerator": "GPU",
    "gpuClass": "standard"
  },
  "cells": [
    {
      "cell_type": "markdown",
      "metadata": {
        "id": "view-in-github",
        "colab_type": "text"
      },
      "source": [
        "<a href=\"https://colab.research.google.com/github/Batman511/AI-Samsung-Neural-Networks/blob/main/%D0%9A%D1%83%D1%80%D1%81_AI_Samsung_%D0%9D%D0%B5%D0%B9%D1%80%D0%BE%D1%81%D0%B5%D1%82%D0%B8.ipynb\" target=\"_parent\"><img src=\"https://colab.research.google.com/assets/colab-badge.svg\" alt=\"Open In Colab\"/></a>"
      ]
    },
    {
      "cell_type": "markdown",
      "source": [
        "# Восстановление функции с помощью нейросети (Регрессия)"
      ],
      "metadata": {
        "id": "l-fhOmcA5XQc"
      }
    },
    {
      "cell_type": "code",
      "execution_count": 1,
      "metadata": {
        "id": "j3r8JUY3yrWu"
      },
      "outputs": [],
      "source": [
        "import torch\n",
        "import matplotlib.pyplot as plt\n",
        "import numpy as np"
      ]
    },
    {
      "cell_type": "code",
      "source": [
        "x_train = torch.rand(100)\n",
        "x_train *=20\n",
        "x_train -=10\n",
        "\n",
        "y_train = torch.sin(x_train)\n",
        "# plt.plot(x_train.numpy(), y_train.numpy(),'o')\n",
        "\n",
        "noise = torch.rand(y_train.shape)/8.\n",
        "y_train += noise\n",
        "\n",
        "plt.plot(x_train.numpy(), y_train.numpy(),'o')"
      ],
      "metadata": {
        "colab": {
          "base_uri": "https://localhost:8080/",
          "height": 282
        },
        "id": "FIzHR2gC5W8O",
        "outputId": "b8670638-7f69-4774-b07f-9c3852590852"
      },
      "execution_count": 21,
      "outputs": [
        {
          "output_type": "execute_result",
          "data": {
            "text/plain": [
              "[<matplotlib.lines.Line2D at 0x7fbbc3647af0>]"
            ]
          },
          "metadata": {},
          "execution_count": 21
        },
        {
          "output_type": "display_data",
          "data": {
            "text/plain": [
              "<Figure size 432x288 with 1 Axes>"
            ],
            "image/png": "[encoded data removed]"
          },
          "metadata": {
            "needs_background": "light"
          }
        }
      ]
    },
    {
      "cell_type": "markdown",
      "source": [
        "Превращаем вектор признаков в столбец"
      ],
      "metadata": {
        "id": "x4-ArFH2JaZ7"
      }
    },
    {
      "cell_type": "code",
      "source": [
        "x_train.unsqueeze_(1)\n",
        "y_train.unsqueeze_(1)\n",
        "\n",
        "# Сделаем валидационные данные,   СЛЕДИТЬ ЧТОБЫ БЫЛ ТОТ ЖЕ ДИАПАЗОН, ЧТО В ТРЕНИРОВОЧНЫЕ ДАННЫЕ\n",
        "x_valid = torch.linspace(-10, 10, 100)\n",
        "y_valid = torch.sin(x_valid.data)\n",
        "\n",
        "x_valid.unsqueeze_(1)\n",
        "y_valid.unsqueeze_(1);"
      ],
      "metadata": {
        "id": "DOqnVi1pJZGi"
      },
      "execution_count": 16,
      "outputs": []
    },
    {
      "cell_type": "markdown",
      "source": [
        "Создаем Класс нейросети"
      ],
      "metadata": {
        "id": "rHGkcpMFKo2l"
      }
    },
    {
      "cell_type": "code",
      "source": [
        "class SinNet(torch.nn.Module):  # наследуем от класса nn.Module\n",
        "    def __init__(self, n_hidden_neurons):   # число скрытых нейронов в каждом слое\n",
        "        super(SinNet, self).__init__()  # инициализируем родительский объект\n",
        "        self.fc1 = torch.nn.Linear(1,n_hidden_neurons)  # первый слой с числом входных и выходных нейронов\n",
        "        self.act1 = torch.nn.Tanh()\n",
        "        self.fc2 = torch.nn.Linear(n_hidden_neurons, 1) # выходной слой с одним выходом тк задача регрессии\n",
        "# fc - полносвязный слой!\n",
        "    # последовательное применение слоев, т.е. ИНИЦИАЛИЗАЦИЯ\n",
        "    def forward(self,x):\n",
        "        x = self.fc1(x)\n",
        "        x = self.act1(x)\n",
        "        x = self.fc2(x)\n",
        "        return x\n",
        "\n",
        "sin_net = SinNet(12)\n",
        "\n",
        "def predict(net,x,y):\n",
        "    y_pred = net.forward(x)  # предсказываем\n",
        "    # рисуем\n",
        "    plt.plot(x.numpy(), y.numpy(), 'o', label='Groud truth')\n",
        "    plt.plot(x.numpy(), y_pred.data.numpy(), 'o', c='r', label='Prediction');\n",
        "    plt.legend(loc='upper left')\n",
        "    plt.xlabel('$x$')\n",
        "    plt.ylabel('$y$')\n",
        "\n",
        "predict(sin_net,x_valid,y_valid)"
      ],
      "metadata": {
        "colab": {
          "base_uri": "https://localhost:8080/",
          "height": 279
        },
        "id": "_jHWoYHBKq37",
        "outputId": "56585697-68ed-416f-fb4d-33d39c5c03fe"
      },
      "execution_count": 18,
      "outputs": [
        {
          "output_type": "display_data",
          "data": {
            "text/plain": [
              "<Figure size 432x288 with 1 Axes>"
            ],
            "image/png": "[encoded data removed]"
          },
          "metadata": {
            "needs_background": "light"
          }
        }
      ]
    },
    {
      "cell_type": "markdown",
      "source": [
        "Обучаем нейросеть"
      ],
      "metadata": {
        "id": "8udF_TeCTM8A"
      }
    },
    {
      "cell_type": "code",
      "source": [
        "optimazer = torch.optim.Adam(sin_net.parameters(), lr=0.01)  # в parameters() лежат веса нейронов (настроиваемые) поэтому и наследовали\n",
        "# оптимайзер оборачивает все параметры нейросети\n",
        "\n",
        "def loss(pred,target):\n",
        "    sq = (pred-target)**2\n",
        "    return sq.mean()\n",
        "\n",
        "for epoch_index in range(2000):\n",
        "    optimazer.zero_grad()  # зануляем градиенты\n",
        "    y_pred = sin_net.forward(x_train)\n",
        "    loss_val = loss(y_pred,y_train)\n",
        "    loss_val.backward()  # для оптимайзера\n",
        "    optimazer.step()\n",
        "\n",
        "predict(sin_net, x_valid, y_valid)"
      ],
      "metadata": {
        "colab": {
          "base_uri": "https://localhost:8080/",
          "height": 279
        },
        "id": "kkN27HWmTNIG",
        "outputId": "0b7068cd-cc73-4d14-a786-c997ca62fb3c"
      },
      "execution_count": 19,
      "outputs": [
        {
          "output_type": "display_data",
          "data": {
            "text/plain": [
              "<Figure size 432x288 with 1 Axes>"
            ],
            "image/png": "[encoded data removed]"
          },
          "metadata": {
            "needs_background": "light"
          }
        }
      ]
    },
    {
      "cell_type": "markdown",
      "source": [
        "## Вторая функция"
      ],
      "metadata": {
        "id": "3qKGRUwolkF5"
      }
    },
    {
      "cell_type": "code",
      "source": [
        "import torch\n",
        "\n",
        "def target_function(x):\n",
        "    return 2**x * torch.sin(2**-x)\n",
        "\n",
        "class RegressionNet(torch.nn.Module):\n",
        "    def __init__(self, n_hidden_neurons):   # число скрытых нейронов в каждом слое\n",
        "        super(RegressionNet, self).__init__()  # инициализируем родительский объект\n",
        "        self.fc1 = torch.nn.Linear(1,n_hidden_neurons)  # первый слой с числом входных и выходных нейронов\n",
        "        self.fc2 = torch.nn.Linear(n_hidden_neurons,n_hidden_neurons)\n",
        "        self.act1 = torch.nn.Tanh()\n",
        "        self.act2 = torch.nn.Tanh()\n",
        "        self.fc3 = torch.nn.Linear(n_hidden_neurons, 1) # выходной слой с одним выходом тк задача регрессии\n",
        "\n",
        "    def forward(self,x):\n",
        "        x = self.fc1(x)\n",
        "        x = self.act1(x)\n",
        "        x = self.fc2(x)\n",
        "        x = self.act2(x)\n",
        "        x = self.fc3(x)\n",
        "        return x\n",
        "\n",
        "net = RegressionNet(30)\n",
        "\n",
        "# ------Dataset preparation start--------:\n",
        "x_train =  torch.linspace(-10, 5, 100)\n",
        "y_train = target_function(x_train)\n",
        "noise = torch.randn(y_train.shape) / 20.\n",
        "y_train = y_train + noise\n",
        "x_train.unsqueeze_(1)\n",
        "y_train.unsqueeze_(1)\n",
        "\n",
        "x_validation = torch.linspace(-10, 5, 100)\n",
        "y_validation = target_function(x_validation)\n",
        "x_validation.unsqueeze_(1)\n",
        "y_validation.unsqueeze_(1)\n",
        "# ------Dataset preparation end--------:\n",
        "\n",
        "\n",
        "optimizer = torch.optim.AdamW(net.parameters(), lr=0.001)\n",
        "\n",
        "def loss(pred, target):\n",
        "    sq = abs(pred-target)\n",
        "    return sq.mean()\n",
        "\n",
        "for epoch_index in range(2000):\n",
        "    optimizer.zero_grad()\n",
        "\n",
        "    y_pred = net.forward(x_train)\n",
        "    loss_value = loss(y_pred, y_train)\n",
        "    loss_value.backward()\n",
        "    optimizer.step()\n",
        "\n",
        "# Проверка:\n",
        "def metric(pred, target):\n",
        "   return (pred - target).abs().mean()\n",
        "\n",
        "print(metric(net.forward(x_validation), y_validation).item())"
      ],
      "metadata": {
        "colab": {
          "base_uri": "https://localhost:8080/"
        },
        "id": "4m8JvIX-lkZc",
        "outputId": "2c17d8f2-3709-4377-b97d-1a78a5386838"
      },
      "execution_count": 3,
      "outputs": [
        {
          "output_type": "stream",
          "name": "stdout",
          "text": [
            "0.02594063989818096\n"
          ]
        }
      ]
    },
    {
      "cell_type": "markdown",
      "source": [
        "# Классификация"
      ],
      "metadata": {
        "id": "tsAEypf1EmhC"
      }
    },
    {
      "cell_type": "code",
      "source": [
        "import torch\n",
        "import random\n",
        "import numpy as np\n",
        "\n",
        "random.seed(0)\n",
        "np.random.seed(0)\n",
        "torch.manual_seed(0)\n",
        "torch.cuda.manual_seed(0)  # для видеокарты отдельно прописываем\n",
        "torch.backends.cudnn.deterministic = True"
      ],
      "metadata": {
        "id": "geVVuqnsEl8e"
      },
      "execution_count": 4,
      "outputs": []
    },
    {
      "cell_type": "markdown",
      "source": [
        "Скачиваем базу с 3 видами вина"
      ],
      "metadata": {
        "id": "TXwyOW9sGCvT"
      }
    },
    {
      "cell_type": "code",
      "source": [
        "import sklearn.datasets\n",
        "wine = sklearn.datasets.load_wine()\n",
        "wine.data.shape"
      ],
      "metadata": {
        "colab": {
          "base_uri": "https://localhost:8080/"
        },
        "id": "4f4GXXO8EvSX",
        "outputId": "e9780b4c-a738-4b87-b7a5-b353d07a0e49"
      },
      "execution_count": 5,
      "outputs": [
        {
          "output_type": "execute_result",
          "data": {
            "text/plain": [
              "(178, 13)"
            ]
          },
          "metadata": {},
          "execution_count": 5
        }
      ]
    },
    {
      "cell_type": "markdown",
      "source": [
        "Создаем выборки и Класс нейросети"
      ],
      "metadata": {
        "id": "qkrSFD7GGWG5"
      }
    },
    {
      "cell_type": "code",
      "source": [
        "from sklearn.model_selection import train_test_split\n",
        "x_train, x_test, y_train, y_test = train_test_split(wine.data[:,:2],  # используем только 2 колонки для визуализации\n",
        "                                                    wine.target,    # что предсказываем\n",
        "                                                    test_size=0.3,\n",
        "                                                    shuffle=True)\n",
        "# обернем в тензор:\n",
        "x_train = torch.FloatTensor(x_train)\n",
        "x_test = torch.FloatTensor(x_test)\n",
        "y_train = torch.LongTensor(y_train) # недробные числа\n",
        "y_test = torch.LongTensor(y_test)\n",
        "\n",
        "# Нейросеть для классификации\n",
        "class WineNet(torch.nn.Module):\n",
        "    # конструктор\n",
        "    def __init__(self,n_hidden_neurons):\n",
        "        super(WineNet,self).__init__()\n",
        "\n",
        "        self.fc1 = torch.nn.Linear(2,n_hidden_neurons)  # 2 входа = 2 колонки\n",
        "        self.act1 = torch.nn.Sigmoid()\n",
        "        self.fc2 = torch.nn.Linear(n_hidden_neurons,n_hidden_neurons)  \n",
        "        self.fc3 = torch.nn.Linear(n_hidden_neurons,3) \n",
        "        self.sm = torch.nn.Softmax(dim=1)  # построчное применение\n",
        "\n",
        "    # граф нейросети\n",
        "    def forward(self,x):\n",
        "        x = self.fc1(x)\n",
        "        x = self.act1(x)\n",
        "        x = self.fc2(x)\n",
        "        x = self.act1(x)\n",
        "        x = self.fc3(x)\n",
        "        return x\n",
        "# Для подсчета loss softmax не нужен, а для вероятности нужен, поэтому напишем отдельно\n",
        "    def inference(self, x):\n",
        "        x = self.forward(x)\n",
        "        x = self.sm(x)\n",
        "        return x\n",
        "\n",
        "wine_net = WineNet(5)\n",
        "\n",
        "# реализация Кроссэнтропии numpy\n",
        "# def CrossEntropy(y_pred, y_true):\n",
        "#     total_bce_loss = np.sum(-y_true * np.log(y_pred) - (1 - y_true) * np.log(1 - y_pred))\n",
        "#     num_of_samples = y_pred.shape[0]\n",
        "#     mean_bce_loss = total_bce_loss / num_of_samples\n",
        "#     return mean_bce_loss\n",
        "\n",
        "# loss = torch.nn.CrossEntropyLoss()   # не работает\n",
        "# loss = torch.nn.functional.cross_entropy()   # работает\n",
        "\n",
        "optimizer = torch.optim.Adam(wine_net.parameters(), lr=1.0e-3)"
      ],
      "metadata": {
        "id": "4WZKAnezGVs0"
      },
      "execution_count": 23,
      "outputs": []
    },
    {
      "cell_type": "code",
      "source": [
        "np.random.permutation(5)  # индексы в случайном порядке для перемешивания датасета\n",
        "batch_size=10\n",
        "\n",
        "for epoch in range(5000):\n",
        "    order = np.random.permutation(len(x_train)) # порядок индексов\n",
        "\n",
        "    for start_index in range(0, len(x_train), batch_size):\n",
        "        optimizer.zero_grad()\n",
        "        batch_indexes = order[start_index:start_index+batch_size]\n",
        "\n",
        "        x_batch = x_train[batch_indexes]\n",
        "        y_batch = y_train[batch_indexes]\n",
        "\n",
        "        preds = wine_net.forward(x_batch)\n",
        "        loss = torch.nn.functional.cross_entropy(preds,y_batch)\n",
        "        loss.backward()\n",
        "        optimizer.step()\n",
        "\n",
        "    # проверяем каждый 100 эпох как идет обучение (валидационные данные)\n",
        "    if epoch % 100 == 0:\n",
        "        test_preds = wine_net.forward(x_test)\n",
        "        test_preds = test_preds.argmax(dim=1)\n",
        "        print((test_preds == y_test).float().mean())\n",
        "\n",
        "\n"
      ],
      "metadata": {
        "colab": {
          "base_uri": "https://localhost:8080/"
        },
        "id": "oWCH1e5iNjxU",
        "outputId": "4af0a164-824f-43b9-86c1-8b3efe188d90"
      },
      "execution_count": 29,
      "outputs": [
        {
          "output_type": "stream",
          "name": "stdout",
          "text": [
            "tensor(0.8333)\n",
            "tensor(0.8333)\n",
            "tensor(0.8333)\n",
            "tensor(0.8333)\n",
            "tensor(0.8519)\n",
            "tensor(0.8333)\n",
            "tensor(0.8333)\n",
            "tensor(0.8333)\n",
            "tensor(0.8519)\n",
            "tensor(0.8519)\n"
          ]
        }
      ]
    },
    {
      "cell_type": "markdown",
      "source": [
        "Визуализация результата"
      ],
      "metadata": {
        "id": "Rb-VcqXBUlGM"
      }
    },
    {
      "cell_type": "code",
      "source": [
        "import matplotlib.pyplot as plt\n",
        "%matplotlib inline\n",
        "\n",
        "plt.rcParams['figure.figsize'] = (10, 8)\n",
        "\n",
        "n_classes = 3\n",
        "plot_colors = ['g', 'orange', 'black']\n",
        "plot_step = 0.02\n",
        "\n",
        "x_min, x_max = x_train[:, 0].min() - 1, x_train[:, 0].max() + 1\n",
        "y_min, y_max = x_train[:, 1].min() - 1, x_train[:, 1].max() + 1\n",
        "\n",
        "xx, yy =  torch.meshgrid(torch.arange(x_min, x_max, plot_step),\n",
        "                         torch.arange(y_min, y_max, plot_step))\n",
        "\n",
        "preds = wine_net.inference(\n",
        "    torch.cat([xx.reshape(-1, 1), yy.reshape(-1, 1)], dim=1))\n",
        "\n",
        "preds_class = preds.data.numpy().argmax(axis=1)\n",
        "preds_class = preds_class.reshape(xx.shape)\n",
        "plt.contourf(xx, yy, preds_class, cmap='Accent')\n",
        "\n",
        "for i, color in zip(range(n_classes), plot_colors):\n",
        "    indexes = np.where(y_train == i)\n",
        "    plt.scatter(x_train[indexes, 0], \n",
        "                x_train[indexes, 1], \n",
        "                c=color, \n",
        "                label=wine.target_names[i],\n",
        "                cmap='Accent')\n",
        "    plt.xlabel(wine.feature_names[0])\n",
        "    plt.ylabel(wine.feature_names[1])\n",
        "    plt.legend()"
      ],
      "metadata": {
        "colab": {
          "base_uri": "https://localhost:8080/",
          "height": 586
        },
        "id": "iiU8Qqw6Umn1",
        "outputId": "b3dd1477-daff-48df-98ba-8c04c0e640c7"
      },
      "execution_count": 30,
      "outputs": [
        {
          "output_type": "stream",
          "name": "stderr",
          "text": [
            "/usr/local/lib/python3.8/dist-packages/torch/functional.py:504: UserWarning: torch.meshgrid: in an upcoming release, it will be required to pass the indexing argument. (Triggered internally at ../aten/src/ATen/native/TensorShape.cpp:3190.)\n",
            "  return _VF.meshgrid(tensors, **kwargs)  # type: ignore[attr-defined]\n",
            "<ipython-input-30-5b03a9fb0f65>:25: UserWarning: Creating a tensor from a list of numpy.ndarrays is extremely slow. Please consider converting the list to a single numpy.ndarray with numpy.array() before converting to a tensor. (Triggered internally at ../torch/csrc/utils/tensor_new.cpp:230.)\n",
            "  plt.scatter(x_train[indexes, 0],\n"
          ]
        },
        {
          "output_type": "display_data",
          "data": {
            "text/plain": [
              "<Figure size 720x576 with 1 Axes>"
            ],
            "image/png": "[encoded data removed]"
          },
          "metadata": {
            "needs_background": "light"
          }
        }
      ]
    },
    {
      "cell_type": "markdown",
      "source": [
        "Если уменьшить число скрытых слоев, качество улучшится"
      ],
      "metadata": {
        "id": "zqyGXTBNVWHe"
      }
    },
    {
      "cell_type": "markdown",
      "source": [
        "# Классификация рукописных цифр (одномерный тензор)"
      ],
      "metadata": {
        "id": "ygebxzrxVgC5"
      }
    },
    {
      "cell_type": "markdown",
      "source": [
        "Обучать следует на GPU (так быстрее)"
      ],
      "metadata": {
        "id": "NIlRBEA59cO7"
      }
    },
    {
      "cell_type": "code",
      "source": [
        "import torch\n",
        "import random\n",
        "import numpy as np\n",
        "import matplotlib.pyplot as plt\n",
        "\n",
        "random.seed(0)\n",
        "np.random.seed(0)\n",
        "torch.manual_seed(0)\n",
        "torch.cuda.manual_seed(0)\n",
        "torch.backends.cudnn.deterministic = True   # если убрать, то скорость увеличится"
      ],
      "metadata": {
        "id": "ykpGErck22Py"
      },
      "execution_count": 18,
      "outputs": []
    },
    {
      "cell_type": "markdown",
      "source": [
        "Скачиваем картинки рукописных цифр"
      ],
      "metadata": {
        "id": "Rv7StdDH2-O8"
      }
    },
    {
      "cell_type": "code",
      "source": [
        "import torchvision.datasets\n",
        "MNIST_train = torchvision.datasets.MNIST('./', download=True, train=True)\n",
        "MNIST_test = torchvision.datasets.MNIST('./', download=True, train=False)\n",
        "\n",
        "X_train = MNIST_train.train_data\n",
        "y_train = MNIST_train.train_labels\n",
        "X_test = MNIST_test.test_data\n",
        "y_test = MNIST_test.test_labels\n",
        "\n",
        "# данные в дробных числах\n",
        "X_train = X_train.float()\n",
        "X_test = X_test.float()"
      ],
      "metadata": {
        "id": "yFE357gM295I"
      },
      "execution_count": null,
      "outputs": []
    },
    {
      "cell_type": "code",
      "source": [
        "X_train.shape, X_test.shape"
      ],
      "metadata": {
        "colab": {
          "base_uri": "https://localhost:8080/"
        },
        "id": "O7e9-xsI3M3T",
        "outputId": "14a6b2b7-d01e-4e28-a8d1-d6ffa8b7274b"
      },
      "execution_count": 5,
      "outputs": [
        {
          "output_type": "execute_result",
          "data": {
            "text/plain": [
              "(torch.Size([60000, 28, 28]), torch.Size([10000, 28, 28]))"
            ]
          },
          "metadata": {},
          "execution_count": 5
        }
      ]
    },
    {
      "cell_type": "markdown",
      "source": [
        "Откроем одну картинку"
      ],
      "metadata": {
        "id": "-aXvEEyt3fDX"
      }
    },
    {
      "cell_type": "code",
      "source": [
        "import matplotlib.pyplot as plt\n",
        "plt.imshow(X_train[0, :, :])\n",
        "plt.show()\n",
        "print(\"Label: \",y_train[0])"
      ],
      "metadata": {
        "colab": {
          "base_uri": "https://localhost:8080/",
          "height": 282
        },
        "id": "H37kzRWr3gqs",
        "outputId": "506819da-00ce-4e4a-c6d7-ef90f4f529ac"
      },
      "execution_count": 9,
      "outputs": [
        {
          "output_type": "display_data",
          "data": {
            "text/plain": [
              "<Figure size 432x288 with 1 Axes>"
            ],
            "image/png": "[encoded data removed]"
          },
          "metadata": {
            "needs_background": "light"
          }
        },
        {
          "output_type": "stream",
          "name": "stdout",
          "text": [
            "Label:  tensor(5)\n"
          ]
        }
      ]
    },
    {
      "cell_type": "markdown",
      "source": [
        "Растянем картинки в одномерный тензор"
      ],
      "metadata": {
        "id": "KI_TA1Tb5iIR"
      }
    },
    {
      "cell_type": "code",
      "source": [
        "X_train = X_train.reshape([-1, 28 * 28])\n",
        "X_test = X_test.reshape([-1, 28 * 28])"
      ],
      "metadata": {
        "id": "U7Ba7v3I5h3t"
      },
      "execution_count": 7,
      "outputs": []
    },
    {
      "cell_type": "markdown",
      "source": [
        "Создаем нейросеть"
      ],
      "metadata": {
        "id": "p3XJkv0h6GBh"
      }
    },
    {
      "cell_type": "code",
      "source": [
        "class MNISTNet(torch.nn.Module):\n",
        "    def __init__(self,n_hidden_neurons):\n",
        "        super(MNISTNet, self).__init__()\n",
        "        self.fc1 = torch.nn.Linear(28*28, n_hidden_neurons)\n",
        "        self.ac1 = torch.nn.Tanh()\n",
        "        self.fc2 = torch.nn.Linear(n_hidden_neurons, 10) \n",
        "\n",
        "    def forward(self,x):\n",
        "        x = self.fc1(x)\n",
        "        x = self.ac1(x)\n",
        "        x = self.fc2(x)    \n",
        "        return x\n",
        "\n",
        "mnist_net = MNISTNet(100)\n",
        "optimizer = torch.optim.Adam(mnist_net.parameters(), lr=1.0e-3)\n",
        "# torch.nn.functional.cross_entropy()"
      ],
      "metadata": {
        "id": "uJ3t9XtR5y7o"
      },
      "execution_count": 66,
      "outputs": []
    },
    {
      "cell_type": "markdown",
      "source": [
        "## Подключаем GPU"
      ],
      "metadata": {
        "id": "LPt-UqRy_klq"
      }
    },
    {
      "cell_type": "code",
      "source": [
        "print(torch.cuda.is_available())\n",
        "# !nvidia-smi  # что за видеокарта и занята ли она вычислениями"
      ],
      "metadata": {
        "colab": {
          "base_uri": "https://localhost:8080/"
        },
        "id": "lJrlrGFC_j4s",
        "outputId": "8ffb3f02-4f0f-4938-84e5-65a6624ae08f"
      },
      "execution_count": 9,
      "outputs": [
        {
          "output_type": "stream",
          "name": "stdout",
          "text": [
            "True\n"
          ]
        }
      ]
    },
    {
      "cell_type": "markdown",
      "source": [
        "Перекладываем вычисления весов на GPU"
      ],
      "metadata": {
        "id": "4DU7t13r_tbt"
      }
    },
    {
      "cell_type": "code",
      "source": [
        "device = torch.device('cuda:0' if torch.cuda.is_available() else 'cpu')\n",
        "mnist_net = mnist_net.to(device)\n",
        "# list(mnist_net.parameters())  # cuda:0 означаем, что веса лежат на видеокарте"
      ],
      "metadata": {
        "id": "4a_X7B2A_u--"
      },
      "execution_count": 67,
      "outputs": []
    },
    {
      "cell_type": "markdown",
      "source": [
        "Если памяти хватает, то и данные переносим, но тренировочные перебрасываем батчами"
      ],
      "metadata": {
        "id": "9SlQQ5KOAMfB"
      }
    },
    {
      "cell_type": "code",
      "source": [
        "X_test = X_test.to(device)\n",
        "y_test = y_test.to(device)"
      ],
      "metadata": {
        "id": "uajIj-hXALdF"
      },
      "execution_count": 68,
      "outputs": []
    },
    {
      "cell_type": "markdown",
      "source": [
        "## Обучаем"
      ],
      "metadata": {
        "id": "b5or3FlG8lbZ"
      }
    },
    {
      "cell_type": "markdown",
      "source": [
        "Ставим большое число эпох с рассчетом на что, что сделаем остановку вручную"
      ],
      "metadata": {
        "id": "shPD8Z-aIAnv"
      }
    },
    {
      "cell_type": "code",
      "source": [
        "batch_size = 128\n",
        "\n",
        "# для сохрания точности и построения графика\n",
        "test_accuracy_history = []\n",
        "test_loss_history = []\n",
        "\n",
        "for epoch in range(5000):\n",
        "    order = np.random.permutation(len(X_train))  # на каждой эпохе перемешиваем датасет\n",
        "    \n",
        "    for start_index in range(0, len(X_train), batch_size):\n",
        "        optimizer.zero_grad()\n",
        "        \n",
        "        batch_indexes = order[start_index:start_index+batch_size]\n",
        "        \n",
        "        X_batch = X_train[batch_indexes].to(device)\n",
        "        y_batch = y_train[batch_indexes].to(device)\n",
        "        \n",
        "        preds = mnist_net.forward(X_batch) \n",
        "        \n",
        "        loss_value = torch.nn.functional.cross_entropy(preds, y_batch)\n",
        "        loss_value.backward()\n",
        "        \n",
        "        optimizer.step()\n",
        "\n",
        "    test_preds = mnist_net.forward(X_test)\n",
        "    test_loss_history.append((torch.nn.functional.cross_entropy(test_preds, y_test)).data.detach().cpu().numpy())  # следим за качеством\n",
        "    \n",
        "    accuracy = (test_preds.argmax(dim=1) == y_test).float().mean()  # argmax отдаст номер нейрона с наибольшей вероятностью\n",
        "    test_accuracy_history.append(accuracy.detach().cpu().numpy())   # следим за качеством\n",
        "    print(accuracy)"
      ],
      "metadata": {
        "id": "KSDb0vJE7fVB"
      },
      "execution_count": null,
      "outputs": []
    },
    {
      "cell_type": "code",
      "source": [
        "fig = plt.figure(figsize=(10,5))\n",
        "ax_real = fig.add_subplot()\n",
        "ax_real.set_title(\"Accuracy\", fontsize=15)\n",
        "ax_real.plot(test_accuracy_history, c='green')\n",
        "\n",
        "fig = plt.figure(figsize=(10,5))\n",
        "ax_real = fig.add_subplot()\n",
        "ax_real.set_title(\"Loss\", fontsize=15)\n",
        "ax_real.plot(test_loss_history, c='red')"
      ],
      "metadata": {
        "colab": {
          "base_uri": "https://localhost:8080/",
          "height": 676
        },
        "id": "fH-WbIZBDIGv",
        "outputId": "66846a0d-17cd-4ff5-fdc1-6edfc269ddd5"
      },
      "execution_count": 70,
      "outputs": [
        {
          "output_type": "execute_result",
          "data": {
            "text/plain": [
              "[<matplotlib.lines.Line2D at 0x7f3c428e0370>]"
            ]
          },
          "metadata": {},
          "execution_count": 70
        },
        {
          "output_type": "display_data",
          "data": {
            "text/plain": [
              "<Figure size 720x360 with 1 Axes>"
            ],
            "image/png": "[encoded data removed]"
          },
          "metadata": {
            "needs_background": "light"
          }
        },
        {
          "output_type": "display_data",
          "data": {
            "text/plain": [
              "<Figure size 720x360 with 1 Axes>"
            ],
            "image/png": "[encoded data removed]"
          },
          "metadata": {
            "needs_background": "light"
          }
        }
      ]
    },
    {
      "cell_type": "markdown",
      "source": [
        "# Классификация рукописных цифр (сверточные нейронные сети)"
      ],
      "metadata": {
        "id": "ljiO7NS1S-ks"
      }
    },
    {
      "cell_type": "code",
      "source": [
        "import torch\n",
        "import random\n",
        "import numpy as np\n",
        "import matplotlib.pyplot as plt\n",
        "\n",
        "random.seed(0)\n",
        "np.random.seed(0)\n",
        "torch.manual_seed(0)\n",
        "torch.cuda.manual_seed(0)\n",
        "torch.backends.cudnn.deterministic = True   # если убрать, то скорость увеличится"
      ],
      "metadata": {
        "id": "q7GP3TPqTFGU"
      },
      "execution_count": 2,
      "outputs": []
    },
    {
      "cell_type": "markdown",
      "source": [
        "Скачиваем картинки рукописных цифр"
      ],
      "metadata": {
        "id": "mtBgQFq8U4YF"
      }
    },
    {
      "cell_type": "code",
      "source": [
        "import torchvision.datasets\n",
        "MNIST_train = torchvision.datasets.MNIST('./', download=True, train=True)\n",
        "MNIST_test = torchvision.datasets.MNIST('./', download=True, train=False)\n",
        "\n",
        "X_train = MNIST_train.train_data\n",
        "y_train = MNIST_train.train_labels\n",
        "X_test = MNIST_test.test_data\n",
        "y_test = MNIST_test.test_labels\n",
        "\n",
        "# данные в дробных числах\n",
        "X_train = X_train.float()\n",
        "X_test = X_test.float()"
      ],
      "metadata": {
        "id": "MBHV4BYyU348"
      },
      "execution_count": null,
      "outputs": []
    },
    {
      "cell_type": "code",
      "source": [
        "print(\"Старая размерность: \",X_train.shape, X_test.shape)\n",
        "\n",
        "# доьавляем еще одно измерение\n",
        "X_train = X_train.unsqueeze(1).float()\n",
        "X_test = X_test.unsqueeze(1).float()\n",
        "print(\"Новая размерность: \",X_train.shape, X_test.shape)"
      ],
      "metadata": {
        "colab": {
          "base_uri": "https://localhost:8080/"
        },
        "id": "OWZGRzKLVCCv",
        "outputId": "ec74cb64-864a-47a1-e5d7-94058df8452a"
      },
      "execution_count": 5,
      "outputs": [
        {
          "output_type": "stream",
          "name": "stdout",
          "text": [
            "Старая размерность:  torch.Size([60000, 28, 28]) torch.Size([10000, 28, 28])\n",
            "Новая размерность:  torch.Size([60000, 1, 28, 28]) torch.Size([10000, 1, 28, 28])\n"
          ]
        }
      ]
    },
    {
      "cell_type": "markdown",
      "source": [
        "Создаем класс нейросети"
      ],
      "metadata": {
        "id": "3By0dul-WbTi"
      }
    },
    {
      "cell_type": "code",
      "source": [
        "class LeNet5(torch.nn.Module):\n",
        "    def __init__(self):\n",
        "        super(LeNet5, self).__init__()\n",
        "\n",
        "        # после 1 слоя хотим сохранить размер 28х28, добавляем паддинг\n",
        "        self.conv1 = torch.nn.Conv2d(in_channels=1, out_channels=6, kernel_size=5,padding=2)  # bias=False\n",
        "        self.act1 = torch.nn.Tanh()\n",
        "        self.pool1 = torch.nn.AvgPool2d(kernel_size=2, stride = 2)\n",
        "\n",
        "        self.conv2 = torch.nn.Conv2d(in_channels=6, out_channels=16, kernel_size=5,padding=0)\n",
        "        self.pool2 = torch.nn.AvgPool2d(kernel_size=2, stride = 2)   \n",
        "\n",
        "        # растянем в один вектор потом\n",
        "\n",
        "        self.fc1 = torch.nn.Linear(5*5*16, 120)  # сколько нейронов на входе, на выходе\n",
        "        self.fc2 = torch.nn.Linear(120, 84)\n",
        "        self.fc3 = torch.nn.Linear(84, 10)\n",
        "\n",
        "    # применяем слои к входному вектору\n",
        "    def forward(self,x):\n",
        "        x = self.conv1(x)\n",
        "        x = self.act1(x)\n",
        "        x = self.pool1(x)\n",
        "\n",
        "        x = self.conv2(x)\n",
        "        x = self.act1(x)\n",
        "        x = self.pool2(x)\n",
        "\n",
        "        # растянем 4х мерный тензор в двумерный\n",
        "        x = x.view(x.size(0), x.size(1)*x.size(2)*x.size(3))\n",
        "\n",
        "        x = self.fc1(x)\n",
        "        x = self.act1(x)\n",
        "        x = self.fc2(x)\n",
        "        x = self.act1(x)\n",
        "        x = self.fc3(x)\n",
        "\n",
        "        return x\n",
        "\n",
        "lenet5 = LeNet5()"
      ],
      "metadata": {
        "id": "RFDjufUDWa8P"
      },
      "execution_count": 6,
      "outputs": []
    },
    {
      "cell_type": "markdown",
      "source": [
        "Подключим GPU и выберем оптимайзер и loss функцию"
      ],
      "metadata": {
        "id": "cRtJ-cJJadIE"
      }
    },
    {
      "cell_type": "code",
      "source": [
        "device = torch.device('cuda:0' if torch.cuda.is_available() else 'cpu')\n",
        "lenet5 = lenet5.to(device)\n",
        "\n",
        "loss = torch.nn.CrossEntropyLoss()\n",
        "optimizer = torch.optim.Adam(lenet5.parameters(), lr=1.0e-3)"
      ],
      "metadata": {
        "id": "nwr-rGqealNu"
      },
      "execution_count": 7,
      "outputs": []
    },
    {
      "cell_type": "code",
      "source": [
        "batch_size = 100\n",
        "\n",
        "test_accuracy_history = []\n",
        "test_loss_history = []\n",
        "\n",
        "X_test = X_test.to(device)\n",
        "y_test = y_test.to(device)\n",
        "\n",
        "for epoch in range(1000):\n",
        "    order = np.random.permutation(len(X_train))\n",
        "    for start_index in range(0, len(X_train), batch_size):\n",
        "        # обнуляем градиент\n",
        "        optimizer.zero_grad()\n",
        "        \n",
        "        # выбираем какие картинки войдут в батч\n",
        "        batch_indexes = order[start_index:start_index+batch_size]\n",
        "        \n",
        "        # отправляем батч на GPU\n",
        "        X_batch = X_train[batch_indexes].to(device)\n",
        "        y_batch = y_train[batch_indexes].to(device)\n",
        "\n",
        "        # пропускаем батч через forward\n",
        "        preds = lenet5.forward(X_batch) \n",
        "        \n",
        "        # считаем ошибку, градиенты и делаем шаг град.спуска\n",
        "        loss_value = loss(preds, y_batch)\n",
        "        loss_value.backward()\n",
        "        optimizer.step()\n",
        "\n",
        "    # следим за качеством\n",
        "    test_preds = lenet5.forward(X_test)\n",
        "    test_loss_history.append(loss(test_preds, y_test).data.cpu())   # пишем .data чтобы не хранить все вычисления, а только числа\n",
        "    \n",
        "    accuracy = (test_preds.argmax(dim=1) == y_test).float().mean().data.cpu()\n",
        "    test_accuracy_history.append(accuracy)\n",
        "    \n",
        "    print(accuracy)"
      ],
      "metadata": {
        "id": "T_vj2PfDbGCm"
      },
      "execution_count": null,
      "outputs": []
    },
    {
      "cell_type": "markdown",
      "source": [
        "Графики"
      ],
      "metadata": {
        "id": "cnG619sOgbp9"
      }
    },
    {
      "cell_type": "code",
      "source": [
        "# plt.plot(test_accuracy_history);\n",
        "# plt.plot(test_loss_history);"
      ],
      "metadata": {
        "colab": {
          "base_uri": "https://localhost:8080/",
          "height": 265
        },
        "id": "0N4xK5WAgG91",
        "outputId": "241a5f9f-4ffe-4035-ae8f-f0024af8b56c"
      },
      "execution_count": 14,
      "outputs": [
        {
          "output_type": "display_data",
          "data": {
            "text/plain": [
              "<Figure size 432x288 with 1 Axes>"
            ],
            "image/png": "[encoded data removed]"
          },
          "metadata": {
            "needs_background": "light"
          }
        }
      ]
    },
    {
      "cell_type": "code",
      "source": [
        "fig = plt.figure(figsize=(10,5))\n",
        "ax_real = fig.add_subplot()\n",
        "ax_real.set_title(\"Accuracy\", fontsize=15)\n",
        "ax_real.plot(test_accuracy_history, c='green')\n",
        "\n",
        "fig = plt.figure(figsize=(10,5))\n",
        "ax_real = fig.add_subplot()\n",
        "ax_real.set_title(\"Loss\", fontsize=15)\n",
        "ax_real.plot(test_loss_history, c='red')"
      ],
      "metadata": {
        "colab": {
          "base_uri": "https://localhost:8080/",
          "height": 676
        },
        "id": "99KtQLo_geBl",
        "outputId": "92aabc6c-7373-4dc5-862d-ba5946bc617a"
      },
      "execution_count": 15,
      "outputs": [
        {
          "output_type": "execute_result",
          "data": {
            "text/plain": [
              "[<matplotlib.lines.Line2D at 0x7f402d943ac0>]"
            ]
          },
          "metadata": {},
          "execution_count": 15
        },
        {
          "output_type": "display_data",
          "data": {
            "text/plain": [
              "<Figure size 720x360 with 1 Axes>"
            ],
            "image/png": "[encoded data removed]"
          },
          "metadata": {
            "needs_background": "light"
          }
        },
        {
          "output_type": "display_data",
          "data": {
            "text/plain": [
              "<Figure size 720x360 with 1 Axes>"
            ],
            "image/png": "[encoded data removed]"
          },
          "metadata": {
            "needs_background": "light"
          }
        }
      ]
    },
    {
      "cell_type": "markdown",
      "source": [
        "# Новый раздел"
      ],
      "metadata": {
        "id": "k3FKHl1vJuEv"
      }
    }
  ]
}